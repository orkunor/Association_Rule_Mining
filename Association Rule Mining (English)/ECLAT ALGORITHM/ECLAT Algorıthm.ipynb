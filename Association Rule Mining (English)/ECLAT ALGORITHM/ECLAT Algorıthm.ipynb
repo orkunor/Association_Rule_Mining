{
 "cells": [
  {
   "cell_type": "markdown",
   "id": "bd392f5c",
   "metadata": {},
   "source": [
    "# INSTEAD OF ECLAT, THE APRIOR ALGORITHM IS MORE USEFUL, WE USUALLY USE APRIORI \n",
    "\n",
    "--WE PULL LIBRARY FROM GITHUB IN THE ECLAT ALGORITHM \n",
    "\n",
    "--THE LOGIC IS THE SAME !!!\n",
    "\n",
    "--IT'S AN ALTERNATIVE ALGORITHM WE USE TO MAKE COMPARISONS \n",
    "\n",
    "-ALSO WITH FBGROOS"
   ]
  },
  {
   "cell_type": "code",
   "execution_count": null,
   "id": "6c755838",
   "metadata": {},
   "outputs": [],
   "source": []
  }
 ],
 "metadata": {
  "kernelspec": {
   "display_name": "Python 3 (ipykernel)",
   "language": "python",
   "name": "python3"
  },
  "language_info": {
   "codemirror_mode": {
    "name": "ipython",
    "version": 3
   },
   "file_extension": ".py",
   "mimetype": "text/x-python",
   "name": "python",
   "nbconvert_exporter": "python",
   "pygments_lexer": "ipython3",
   "version": "3.11.4"
  }
 },
 "nbformat": 4,
 "nbformat_minor": 5
}
