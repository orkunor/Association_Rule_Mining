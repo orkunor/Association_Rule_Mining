{
 "cells": [
  {
   "cell_type": "markdown",
   "id": "c0789d54",
   "metadata": {},
   "source": [
    "# ECLAT YERİNE APRIOR ALGORİTMASI DAHA KULLANIŞLIDIR GNELDE BİZ APRIORI KULLANIRIZ \n",
    "\n",
    "--ECLAT ALGORİTMASI İÇİNDE GİTHUB'DAN KÜTÜPHANE ÇEKERİZ \n",
    "\n",
    "--MANTIK AYNIDIR !!!\n",
    "\n",
    "--ALTERNATİF BİR ALGORİTMADIR KARŞILAŞTIRMA YAPABİLMEK İÇİN KULLANIRIZ \n",
    "\n",
    "--FBGROOS İLE DE VAR"
   ]
  },
  {
   "cell_type": "markdown",
   "id": "3066519d",
   "metadata": {},
   "source": [
    "# Equivalance Class Transformation \n",
    "\n",
    "--"
   ]
  }
 ],
 "metadata": {
  "kernelspec": {
   "display_name": "Python 3",
   "language": "python",
   "name": "python3"
  },
  "language_info": {
   "codemirror_mode": {
    "name": "ipython",
    "version": 3
   },
   "file_extension": ".py",
   "mimetype": "text/x-python",
   "name": "python",
   "nbconvert_exporter": "python",
   "pygments_lexer": "ipython3",
   "version": "3.8.8"
  }
 },
 "nbformat": 4,
 "nbformat_minor": 5
}
